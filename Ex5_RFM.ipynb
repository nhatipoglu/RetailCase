{
 "cells": [
  {
   "cell_type": "code",
   "execution_count": 1,
   "metadata": {},
   "outputs": [],
   "source": [
    "import pandas as pd\n",
    "import matplotlib.pyplot as plt\n",
    "\n",
    "import datetime as dt\n",
    "import re\n",
    "\n",
    "import warnings\n",
    "warnings.filterwarnings('ignore')"
   ]
  },
  {
   "cell_type": "markdown",
   "metadata": {},
   "source": [
    "# Veri Yükleme ve Temizleme"
   ]
  },
  {
   "cell_type": "code",
   "execution_count": 2,
   "metadata": {},
   "outputs": [],
   "source": [
    "file_path_2009_2010 = \"data/year_2009_2010.csv\"\n",
    "file_path_2010_2011 = \"data/year_2010_2011.csv\"\n",
    "\n",
    " "
   ]
  },
  {
   "cell_type": "code",
   "execution_count": 6,
   "metadata": {},
   "outputs": [],
   "source": [
    "# Dosyaları okuma\n",
    "df1 = pd.read_csv(file_path_2009_2010,encoding='iso-8859-1')\n",
    "df2 = pd.read_csv(file_path_2010_2011, encoding='iso-8859-1')\n",
    "\n",
    "\n",
    "# DataFrame'leri birleştirme\n",
    "df = pd.concat([df1, df2], ignore_index=True)"
   ]
  },
  {
   "cell_type": "code",
   "execution_count": 4,
   "metadata": {},
   "outputs": [
    {
     "name": "stdout",
     "output_type": "stream",
     "text": [
      "\n",
      "Eksik veriler ve oranları:\n",
      "             Eksik Veri Sayısı  Eksik Veri Oranı (%)\n",
      "Invoice                      0              0.000000\n",
      "StockCode                    0              0.000000\n",
      "Description               4382              0.410541\n",
      "Quantity                     0              0.000000\n",
      "InvoiceDate                  0              0.000000\n",
      "Price                        0              0.000000\n",
      "Customer ID             243007             22.766873\n",
      "Country                      0              0.000000\n"
     ]
    }
   ],
   "source": [
    "missing_data = df.isnull().sum()\n",
    "missing_percentage = (df.isnull().sum() / len(df)) * 100\n",
    "\n",
    "# Eksik verileri ve oranlarını tabloya çevirme\n",
    "missing_data_df = pd.DataFrame({\n",
    "    'Eksik Veri Sayısı': missing_data,\n",
    "    'Eksik Veri Oranı (%)': missing_percentage\n",
    "})\n",
    "\n",
    "# Eksik verileri ve oranlarını yazdırma\n",
    "print(\"\\nEksik veriler ve oranları:\")\n",
    "print(missing_data_df)\n",
    "\n",
    "\n",
    "# Eksik verileri silme\n",
    "df.dropna(inplace=True)"
   ]
  },
  {
   "cell_type": "code",
   "execution_count": 5,
   "metadata": {},
   "outputs": [],
   "source": [
    "# InvoiceNo 'C' ile başlayanları çıkarma\n",
    "df = df[~df['Invoice'].str.startswith('C', na=False)]\n",
    "\n",
    "# Fatura iptallerini çıkarma\n",
    "df = df[~df['Invoice'].str.startswith('C')]\n",
    "\n",
    "# Negatif ve sıfır miktar ve fiyatları çıkarma\n",
    "# Negatif miktar ve fiyatları çıkar\n",
    "df = df[(df['Quantity'] > 0) & (df['Price'] > 0)]"
   ]
  },
  {
   "cell_type": "code",
   "execution_count": 6,
   "metadata": {},
   "outputs": [
    {
     "name": "stdout",
     "output_type": "stream",
     "text": [
      "Duplicate StockCodes and Descriptions:\n",
      "        StockCode                         Description\n",
      "2          79323W                 WHITE CHERRY LIGHTS\n",
      "4           21232      STRAWBERRY CERAMIC TRINKET BOX\n",
      "7           21523  FANCY FONT HOME SWEET HOME DOORMAT\n",
      "8           22350                           CAT BOWL \n",
      "9           22349      DOG BOWL , CHASING BALL DESIGN\n",
      "...           ...                                 ...\n",
      "1008823    84206B      CAT WITH SUNGLASSES BLANK CARD\n",
      "1017336     71053        WHITE MOROCCAN METAL LANTERN\n",
      "1029183     21175       GIN AND TONIC DIET METAL SIGN\n",
      "1030162    90014C     SILVER AND BLACK ORBIT NECKLACE\n",
      "1063082    85123A  CREAM HANGING HEART T-LIGHT HOLDER\n",
      "\n",
      "[1353 rows x 2 columns]\n"
     ]
    }
   ],
   "source": [
    "# StockCode ve Description sütunlarını string tipine çevirme\n",
    "df[\"StockCode\"] = df[\"StockCode\"].astype(str)\n",
    "df[\"Description\"] = df[\"Description\"].astype(str)\n",
    "\n",
    "# Benzersiz StockCode ve Description eşleşmelerini bulma\n",
    "df_product = df[[\"StockCode\", \"Description\"]].drop_duplicates()\n",
    "\n",
    "# StockCode başına birden fazla Description olup olmadığını kontrol etme\n",
    "stockcode_count = df_product['StockCode'].value_counts()\n",
    "duplicate_stockcodes = stockcode_count[stockcode_count > 1].index\n",
    "\n",
    "# Description başına birden fazla StockCode olup olmadığını kontrol etme\n",
    "description_count = df_product['Description'].value_counts()\n",
    "duplicate_descriptions = description_count[description_count > 1].index\n",
    "\n",
    "# Bu duplicate StockCode'ları ve Description'ları gözden geçirme\n",
    "duplicates = df_product[df_product['StockCode'].isin(duplicate_stockcodes) | df_product['Description'].isin(duplicate_descriptions)]\n",
    "\n",
    "print(\"Duplicate StockCodes and Descriptions:\")\n",
    "print(duplicates)"
   ]
  },
  {
   "cell_type": "code",
   "execution_count": 7,
   "metadata": {},
   "outputs": [],
   "source": [
    "\n",
    "# Her StockCode için en sık kullanılan Description'ı seçme\n",
    "most_frequent_descriptions = df.groupby('StockCode')['Description'].agg(lambda x: x.value_counts().index[0]).reset_index()\n",
    "df = df.drop(columns=['Description']).merge(most_frequent_descriptions, on='StockCode', how='left')\n",
    "\n",
    "# Her Description için en sık kullanılan StockCode'u seçme\n",
    "most_frequent_stockcodes = df.groupby('Description')['StockCode'].agg(lambda x: x.value_counts().index[0]).reset_index()\n",
    "df = df.drop(columns=['StockCode']).merge(most_frequent_stockcodes, on='Description', how='left')"
   ]
  },
  {
   "cell_type": "code",
   "execution_count": 8,
   "metadata": {},
   "outputs": [
    {
     "name": "stdout",
     "output_type": "stream",
     "text": [
      "Temizlenmiş Veride Benzersiz StockCode sayısı: 4605\n",
      "Temizlenmiş Veride Benzersiz Description sayısı: 4605\n"
     ]
    }
   ],
   "source": [
    "# Son durumda benzersiz StockCode ve Description sayıları\n",
    "unique_stockcodes_cleaned = df['StockCode'].nunique()\n",
    "unique_descriptions_cleaned = df['Description'].nunique()\n",
    "\n",
    "print(\"Temizlenmiş Veride Benzersiz StockCode sayısı:\", unique_stockcodes_cleaned)\n",
    "print(\"Temizlenmiş Veride Benzersiz Description sayısı:\", unique_descriptions_cleaned)"
   ]
  },
  {
   "cell_type": "code",
   "execution_count": 9,
   "metadata": {},
   "outputs": [
    {
     "name": "stdout",
     "output_type": "stream",
     "text": [
      "<class 'pandas.core.frame.DataFrame'>\n",
      "RangeIndex: 805549 entries, 0 to 805548\n",
      "Data columns (total 8 columns):\n",
      " #   Column       Non-Null Count   Dtype  \n",
      "---  ------       --------------   -----  \n",
      " 0   Invoice      805549 non-null  object \n",
      " 1   Quantity     805549 non-null  int64  \n",
      " 2   InvoiceDate  805549 non-null  object \n",
      " 3   Price        805549 non-null  float64\n",
      " 4   Customer ID  805549 non-null  float64\n",
      " 5   Country      805549 non-null  object \n",
      " 6   Description  805549 non-null  object \n",
      " 7   StockCode    805549 non-null  object \n",
      "dtypes: float64(2), int64(1), object(5)\n",
      "memory usage: 49.2+ MB\n"
     ]
    }
   ],
   "source": [
    "df.info()"
   ]
  },
  {
   "cell_type": "code",
   "execution_count": 10,
   "metadata": {},
   "outputs": [],
   "source": [
    "df.to_csv(\"data/cleaned_data.csv\", index=False)"
   ]
  },
  {
   "cell_type": "markdown",
   "metadata": {},
   "source": [
    "# Müşteri Segmentasyonu RFM Analizi"
   ]
  },
  {
   "cell_type": "code",
   "execution_count": 11,
   "metadata": {},
   "outputs": [
    {
     "data": {
      "text/html": [
       "<div>\n",
       "<style scoped>\n",
       "    .dataframe tbody tr th:only-of-type {\n",
       "        vertical-align: middle;\n",
       "    }\n",
       "\n",
       "    .dataframe tbody tr th {\n",
       "        vertical-align: top;\n",
       "    }\n",
       "\n",
       "    .dataframe thead th {\n",
       "        text-align: right;\n",
       "    }\n",
       "</style>\n",
       "<table border=\"1\" class=\"dataframe\">\n",
       "  <thead>\n",
       "    <tr style=\"text-align: right;\">\n",
       "      <th></th>\n",
       "      <th>Customer ID</th>\n",
       "      <th>Recency</th>\n",
       "      <th>Frequency</th>\n",
       "      <th>Monetary</th>\n",
       "    </tr>\n",
       "  </thead>\n",
       "  <tbody>\n",
       "    <tr>\n",
       "      <th>0</th>\n",
       "      <td>12346.0</td>\n",
       "      <td>326</td>\n",
       "      <td>12</td>\n",
       "      <td>77556.46</td>\n",
       "    </tr>\n",
       "    <tr>\n",
       "      <th>1</th>\n",
       "      <td>12347.0</td>\n",
       "      <td>2</td>\n",
       "      <td>8</td>\n",
       "      <td>5633.32</td>\n",
       "    </tr>\n",
       "    <tr>\n",
       "      <th>2</th>\n",
       "      <td>12348.0</td>\n",
       "      <td>75</td>\n",
       "      <td>5</td>\n",
       "      <td>2019.40</td>\n",
       "    </tr>\n",
       "    <tr>\n",
       "      <th>3</th>\n",
       "      <td>12349.0</td>\n",
       "      <td>19</td>\n",
       "      <td>4</td>\n",
       "      <td>4428.69</td>\n",
       "    </tr>\n",
       "    <tr>\n",
       "      <th>4</th>\n",
       "      <td>12350.0</td>\n",
       "      <td>310</td>\n",
       "      <td>1</td>\n",
       "      <td>334.40</td>\n",
       "    </tr>\n",
       "  </tbody>\n",
       "</table>\n",
       "</div>"
      ],
      "text/plain": [
       "   Customer ID  Recency  Frequency  Monetary\n",
       "0      12346.0      326         12  77556.46\n",
       "1      12347.0        2          8   5633.32\n",
       "2      12348.0       75          5   2019.40\n",
       "3      12349.0       19          4   4428.69\n",
       "4      12350.0      310          1    334.40"
      ]
     },
     "execution_count": 11,
     "metadata": {},
     "output_type": "execute_result"
    }
   ],
   "source": [
    "\n",
    "# Fatura tarihlerini datetime formatına çevir\n",
    "df['InvoiceDate'] = pd.to_datetime(df['InvoiceDate'])\n",
    "\n",
    "# En son işlem tarihini belirle\n",
    "current_date = df['InvoiceDate'].max() + dt.timedelta(days=1)\n",
    "\n",
    "# Toplam Satış Tutarı (Revenue)\n",
    "df['TotalPrice'] = df['Quantity'] * df['Price']\n",
    "\n",
    "\n",
    "# RFM Değerlerini Hesapla\n",
    "rfm = df.groupby('Customer ID').agg({\n",
    "    'InvoiceDate': lambda date: (current_date - date.max()).days,\n",
    "    'Invoice': 'nunique',\n",
    "    'TotalPrice': 'sum'\n",
    "}).reset_index()\n",
    "\n",
    "rfm.columns = ['Customer ID', 'Recency', 'Frequency', 'Monetary']\n",
    "\n",
    "rfm.head()"
   ]
  },
  {
   "cell_type": "code",
   "execution_count": 12,
   "metadata": {},
   "outputs": [
    {
     "data": {
      "text/html": [
       "<div>\n",
       "<style scoped>\n",
       "    .dataframe tbody tr th:only-of-type {\n",
       "        vertical-align: middle;\n",
       "    }\n",
       "\n",
       "    .dataframe tbody tr th {\n",
       "        vertical-align: top;\n",
       "    }\n",
       "\n",
       "    .dataframe thead th {\n",
       "        text-align: right;\n",
       "    }\n",
       "</style>\n",
       "<table border=\"1\" class=\"dataframe\">\n",
       "  <thead>\n",
       "    <tr style=\"text-align: right;\">\n",
       "      <th></th>\n",
       "      <th>Customer ID</th>\n",
       "      <th>Recency</th>\n",
       "      <th>Frequency</th>\n",
       "      <th>Monetary</th>\n",
       "      <th>R_Score</th>\n",
       "      <th>F_Score</th>\n",
       "      <th>M_Score</th>\n",
       "      <th>RFM_Score</th>\n",
       "      <th>Segment</th>\n",
       "    </tr>\n",
       "  </thead>\n",
       "  <tbody>\n",
       "    <tr>\n",
       "      <th>0</th>\n",
       "      <td>12346.0</td>\n",
       "      <td>326</td>\n",
       "      <td>12</td>\n",
       "      <td>77556.46</td>\n",
       "      <td>2</td>\n",
       "      <td>5</td>\n",
       "      <td>5</td>\n",
       "      <td>255</td>\n",
       "      <td>Can not Loose</td>\n",
       "    </tr>\n",
       "    <tr>\n",
       "      <th>1</th>\n",
       "      <td>12347.0</td>\n",
       "      <td>2</td>\n",
       "      <td>8</td>\n",
       "      <td>5633.32</td>\n",
       "      <td>5</td>\n",
       "      <td>4</td>\n",
       "      <td>5</td>\n",
       "      <td>545</td>\n",
       "      <td>Champions</td>\n",
       "    </tr>\n",
       "    <tr>\n",
       "      <th>2</th>\n",
       "      <td>12348.0</td>\n",
       "      <td>75</td>\n",
       "      <td>5</td>\n",
       "      <td>2019.40</td>\n",
       "      <td>3</td>\n",
       "      <td>4</td>\n",
       "      <td>4</td>\n",
       "      <td>344</td>\n",
       "      <td>Loyal Customers</td>\n",
       "    </tr>\n",
       "    <tr>\n",
       "      <th>3</th>\n",
       "      <td>12349.0</td>\n",
       "      <td>19</td>\n",
       "      <td>4</td>\n",
       "      <td>4428.69</td>\n",
       "      <td>5</td>\n",
       "      <td>3</td>\n",
       "      <td>5</td>\n",
       "      <td>535</td>\n",
       "      <td>Potential Loyalists</td>\n",
       "    </tr>\n",
       "    <tr>\n",
       "      <th>4</th>\n",
       "      <td>12350.0</td>\n",
       "      <td>310</td>\n",
       "      <td>1</td>\n",
       "      <td>334.40</td>\n",
       "      <td>2</td>\n",
       "      <td>1</td>\n",
       "      <td>2</td>\n",
       "      <td>212</td>\n",
       "      <td>Hibernating</td>\n",
       "    </tr>\n",
       "  </tbody>\n",
       "</table>\n",
       "</div>"
      ],
      "text/plain": [
       "   Customer ID  Recency  Frequency  Monetary R_Score F_Score M_Score  \\\n",
       "0      12346.0      326         12  77556.46       2       5       5   \n",
       "1      12347.0        2          8   5633.32       5       4       5   \n",
       "2      12348.0       75          5   2019.40       3       4       4   \n",
       "3      12349.0       19          4   4428.69       5       3       5   \n",
       "4      12350.0      310          1    334.40       2       1       2   \n",
       "\n",
       "  RFM_Score              Segment  \n",
       "0       255        Can not Loose  \n",
       "1       545            Champions  \n",
       "2       344      Loyal Customers  \n",
       "3       535  Potential Loyalists  \n",
       "4       212          Hibernating  "
      ]
     },
     "execution_count": 12,
     "metadata": {},
     "output_type": "execute_result"
    }
   ],
   "source": [
    "\n",
    "\n",
    "\n",
    "# RFM Skorlarını Hesapla\n",
    "rfm['R_Score'] = pd.qcut(rfm['Recency'], 5, labels=[5, 4, 3, 2, 1])\n",
    "rfm['F_Score'] = pd.qcut(rfm['Frequency'].rank(method='first'), 5, labels=[1, 2, 3, 4, 5])\n",
    "rfm['M_Score'] = pd.qcut(rfm['Monetary'], 5, labels=[1, 2, 3, 4, 5])\n",
    "\n",
    "\n",
    "\n",
    "\n",
    "\n",
    "# RFM Skoru\n",
    "rfm['RFM_Score'] = rfm['R_Score'].astype(str) + rfm['F_Score'].astype(str) + rfm['M_Score'].astype(str)\n",
    "\n",
    "  \n",
    "seg_map = {\n",
    "    r'[1-2][1-2]': 'Hibernating',\n",
    "    r'[1-2][3-4]': 'At Risk',\n",
    "    r'[1-2]5': 'Can not Loose',\n",
    "    r'3[1-2]': 'About to Sleep',\n",
    "    r'33': 'Need Attention',\n",
    "    r'[3-4][4-5]': 'Loyal Customers',\n",
    "    r'41': 'Promising',\n",
    "    r'51': 'New Customers',\n",
    "    r'[4-5][2-3]': 'Potential Loyalists',\n",
    "    r'5[4-5]': 'Champions'\n",
    "} \n",
    " \n",
    "\n",
    "# Ensure 'RFM_Score' is a string for regex matching\n",
    "rfm['RFM_Score'] = rfm['RFM_Score'].astype(str)\n",
    "\n",
    "# Function to map RFM_Score to segments\n",
    "def map_segment(rfm_score):\n",
    "    for pattern, segment in seg_map.items():\n",
    "        if re.match(pattern, rfm_score):\n",
    "            return segment\n",
    "    return None  # or return a default segment if no match is found\n",
    "\n",
    "# Apply the mapping function to the 'RFM_Score' column\n",
    "rfm['Segment'] = rfm['RFM_Score'].apply(map_segment)\n",
    "\n",
    "rfm.head()"
   ]
  },
  {
   "cell_type": "code",
   "execution_count": 13,
   "metadata": {},
   "outputs": [
    {
     "data": {
      "text/html": [
       "<div>\n",
       "<style scoped>\n",
       "    .dataframe tbody tr th:only-of-type {\n",
       "        vertical-align: middle;\n",
       "    }\n",
       "\n",
       "    .dataframe tbody tr th {\n",
       "        vertical-align: top;\n",
       "    }\n",
       "\n",
       "    .dataframe thead th {\n",
       "        text-align: right;\n",
       "    }\n",
       "</style>\n",
       "<table border=\"1\" class=\"dataframe\">\n",
       "  <thead>\n",
       "    <tr style=\"text-align: right;\">\n",
       "      <th></th>\n",
       "      <th>Customer ID</th>\n",
       "    </tr>\n",
       "    <tr>\n",
       "      <th>Segment</th>\n",
       "      <th></th>\n",
       "    </tr>\n",
       "  </thead>\n",
       "  <tbody>\n",
       "    <tr>\n",
       "      <th>Hibernating</th>\n",
       "      <td>1523</td>\n",
       "    </tr>\n",
       "    <tr>\n",
       "      <th>Loyal Customers</th>\n",
       "      <td>1161</td>\n",
       "    </tr>\n",
       "    <tr>\n",
       "      <th>Champions</th>\n",
       "      <td>837</td>\n",
       "    </tr>\n",
       "    <tr>\n",
       "      <th>At Risk</th>\n",
       "      <td>753</td>\n",
       "    </tr>\n",
       "    <tr>\n",
       "      <th>Potential Loyalists</th>\n",
       "      <td>714</td>\n",
       "    </tr>\n",
       "    <tr>\n",
       "      <th>About to Sleep</th>\n",
       "      <td>385</td>\n",
       "    </tr>\n",
       "    <tr>\n",
       "      <th>Need Attention</th>\n",
       "      <td>266</td>\n",
       "    </tr>\n",
       "    <tr>\n",
       "      <th>Promising</th>\n",
       "      <td>114</td>\n",
       "    </tr>\n",
       "    <tr>\n",
       "      <th>Can not Loose</th>\n",
       "      <td>71</td>\n",
       "    </tr>\n",
       "    <tr>\n",
       "      <th>New Customers</th>\n",
       "      <td>54</td>\n",
       "    </tr>\n",
       "  </tbody>\n",
       "</table>\n",
       "</div>"
      ],
      "text/plain": [
       "                     Customer ID\n",
       "Segment                         \n",
       "Hibernating                 1523\n",
       "Loyal Customers             1161\n",
       "Champions                    837\n",
       "At Risk                      753\n",
       "Potential Loyalists          714\n",
       "About to Sleep               385\n",
       "Need Attention               266\n",
       "Promising                    114\n",
       "Can not Loose                 71\n",
       "New Customers                 54"
      ]
     },
     "execution_count": 13,
     "metadata": {},
     "output_type": "execute_result"
    }
   ],
   "source": [
    "rfm.groupby('Segment').agg({\"Customer ID\":\"count\"}).sort_values(\"Customer ID\",ascending=False)"
   ]
  },
  {
   "cell_type": "code",
   "execution_count": 14,
   "metadata": {},
   "outputs": [
    {
     "data": {
      "image/png": "[encoded data removed]",
      "text/plain": [
       "<Figure size 1000x600 with 1 Axes>"
      ]
     },
     "metadata": {},
     "output_type": "display_data"
    }
   ],
   "source": [
    "# Aggregate and sort the data\n",
    "segment_counts = rfm.groupby('Segment').agg({\"Customer ID\": \"count\"}).sort_values(\"Customer ID\", ascending=False)\n",
    "\n",
    "# Plot the data\n",
    "plt.figure(figsize=(10, 6))\n",
    "plt.bar(segment_counts.index, segment_counts['Customer ID'], color='skyblue')\n",
    "plt.xlabel('Segment')\n",
    "plt.ylabel('Number of Customers')\n",
    "plt.title('Customer Segments by Count')\n",
    "plt.xticks(rotation=15)\n",
    "plt.show()"
   ]
  },
  {
   "cell_type": "code",
   "execution_count": 15,
   "metadata": {},
   "outputs": [],
   "source": [
    "# Save the data\n",
    "rfm.to_csv(\"data/rfm_results.csv\", index=False)"
   ]
  },
  {
   "cell_type": "markdown",
   "metadata": {},
   "source": [
    "RFM analizi (Recency, Frequency, Monetary) müşterileri farklı segmentlere ayırarak müşteri davranışlarını anlamak ve pazarlama stratejilerini geliştirmek için kullanılır. Elde ettiğiniz segment sonuçlarına göre yorumlar:\n",
    "\n",
    "1. **Hibernating (1523 Müşteri):**\n",
    "   - Bu segmentteki müşteriler, uzun süredir alışveriş yapmayan ve genellikle düşük harcama yapan müşterilerdir. Bu müşterileri yeniden kazanmak zor olabilir, ancak etkili yeniden hedefleme kampanyaları ile geri kazanılmaları mümkündür.\n",
    "\n",
    "2. **Loyal Customers (1161 Müşteri):**\n",
    "   - Bu segment, sık sık alışveriş yapan ve yüksek harcama yapan müşterilerden oluşur. Bu müşterileri elde tutmak çok önemlidir. Onlara özel teklifler, sadakat programları ve kişiselleştirilmiş hizmetler sunarak bağlılıklarını artırabilirsiniz.\n",
    "\n",
    "3. **Champions (837 Müşteri):**\n",
    "   - Şampiyon müşteriler, en değerli müşterilerinizdir. En son alışverişlerini yakın zamanda yapmış ve sık sık alışveriş yaparak yüksek harcama yapmışlardır. Bu müşterilere özel dikkat göstermeli ve VIP muamelesi yapmalısınız.\n",
    "\n",
    "4. **At Risk (753 Müşteri):**\n",
    "   - Risk altındaki müşteriler, geçmişte sık alışveriş yapan ancak son zamanlarda azalmış veya durdurmuş müşterilerdir. Bu müşterileri geri kazanmak için özel kampanyalar ve hatırlatma e-postaları göndermek faydalı olabilir.\n",
    "\n",
    "5. **Potential Loyalists (714 Müşteri):**\n",
    "   - Potansiyel sadık müşteriler, alışveriş sıklığını artıran ve potansiyel olarak sadık hale gelebilecek müşterilerdir. Bu müşterilere özel teklifler ve indirimler sunarak onları sadık müşterilere dönüştürebilirsiniz.\n",
    "\n",
    "6. **About to Sleep (385 Müşteri):**\n",
    "   - Uykuya dalmak üzere olan müşteriler, yakında hibernation durumuna geçebilecek müşterilerdir. Bu müşterilere ulaşmak ve tekrar alışveriş yapmalarını teşvik etmek için harekete geçmek önemlidir.\n",
    "\n",
    "7. **Need Attention (266 Müşteri):**\n",
    "   - İlgiye ihtiyaç duyan müşteriler, alışveriş sıklığı ve harcama miktarı azalmış olan müşterilerdir. Bu müşterilere kişiselleştirilmiş teklifler ve kampanyalar sunarak ilgilerini yeniden çekebilirsiniz.\n",
    "\n",
    "8. **Promising (114 Müşteri):**\n",
    "   - Umut vadeden müşteriler, potansiyel olarak değerli müşteriler olma yolunda ilerleyen, alışveriş sıklığını artıran ve harcama miktarını artıran müşterilerdir. Bu müşterileri sadakat programlarına dahil etmek faydalı olabilir.\n",
    "\n",
    "9. **Can not Loose (71 Müşteri):**\n",
    "   - Kaybedilmemesi gereken müşteriler, yüksek değerli ve sadık müşterilerdir. Bu müşterilere özel ilgi gösterilmeli ve bağlılıkları korunmalıdır. VIP programları ve kişiselleştirilmiş hizmetler sunmak iyi bir strateji olabilir.\n",
    "\n",
    "10. **New Customers (54 Müşteri):**\n",
    "    - Yeni müşteriler, henüz alışveriş deneyimleri sınırlı olan müşterilerdir. Bu müşterileri elde tutmak için hoş geldin kampanyaları, indirimler ve kişiselleştirilmiş öneriler sunarak iyi bir başlangıç yapmalarını sağlayabilirsiniz.\n",
    "\n",
    "Bu segmentleri analiz ederek, her bir segment için özel pazarlama stratejileri geliştirebilir ve müşteri bağlılığını artırabilirsiniz. Bu şekilde, müşteri değerini maksimize edebilir ve işletmenizin gelirini artırabilirsiniz."
   ]
  }
 ],
 "metadata": {
  "kernelspec": {
   "display_name": ".venv",
   "language": "python",
   "name": "python3"
  },
  "language_info": {
   "codemirror_mode": {
    "name": "ipython",
    "version": 3
   },
   "file_extension": ".py",
   "mimetype": "text/x-python",
   "name": "python",
   "nbconvert_exporter": "python",
   "pygments_lexer": "ipython3",
   "version": "3.10.12"
  }
 },
 "nbformat": 4,
 "nbformat_minor": 2
}
